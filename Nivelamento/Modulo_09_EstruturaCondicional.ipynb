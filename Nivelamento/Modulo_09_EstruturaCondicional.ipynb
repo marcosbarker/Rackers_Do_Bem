{
  "nbformat": 4,
  "nbformat_minor": 0,
  "metadata": {
    "colab": {
      "provenance": [],
      "authorship_tag": "ABX9TyPSDrE77iHRmxaku2JAzkCa",
      "include_colab_link": true
    },
    "kernelspec": {
      "name": "python3",
      "display_name": "Python 3"
    },
    "language_info": {
      "name": "python"
    }
  },
  "cells": [
    {
      "cell_type": "markdown",
      "metadata": {
        "id": "view-in-github",
        "colab_type": "text"
      },
      "source": [
        "<a href=\"https://colab.research.google.com/github/marcosbarker/Rackers_Do_Bem/blob/main/Nivelamento/Modulo_09_EstruturaCondicional.ipynb\" target=\"_parent\"><img src=\"https://colab.research.google.com/assets/colab-badge.svg\" alt=\"Open In Colab\"/></a>"
      ]
    },
    {
      "cell_type": "code",
      "execution_count": null,
      "metadata": {
        "colab": {
          "base_uri": "https://localhost:8080/"
        },
        "id": "N1-PetRGyjq4",
        "outputId": "3b5a6ecb-462c-45ca-d060-996ec631f75a"
      },
      "outputs": [
        {
          "output_type": "stream",
          "name": "stdout",
          "text": [
            "0\n",
            "1\n",
            "2\n",
            "3\n",
            "4\n",
            "5\n",
            "6\n",
            "7\n",
            "8\n",
            "9\n",
            "10\n"
          ]
        }
      ],
      "source": [
        "for i in range(11):\n",
        "  print(i)"
      ]
    },
    {
      "cell_type": "code",
      "source": [
        "print(\"Teste de impressão\")"
      ],
      "metadata": {
        "colab": {
          "base_uri": "https://localhost:8080/"
        },
        "id": "lD6BJILxK9Ik",
        "outputId": "5acef032-3aad-408f-cb77-dc10ce861974"
      },
      "execution_count": null,
      "outputs": [
        {
          "output_type": "stream",
          "name": "stdout",
          "text": [
            "Teste de impressão\n"
          ]
        }
      ]
    },
    {
      "cell_type": "code",
      "source": [
        "input(\"Teste de pedido de entrada \")"
      ],
      "metadata": {
        "colab": {
          "base_uri": "https://localhost:8080/",
          "height": 53
        },
        "id": "K6p4BaTnLHy2",
        "outputId": "da0df12a-0743-4950-c14f-4951680dd711"
      },
      "execution_count": null,
      "outputs": [
        {
          "name": "stdout",
          "output_type": "stream",
          "text": [
            "Teste de pedido de entrada teste\n"
          ]
        },
        {
          "output_type": "execute_result",
          "data": {
            "text/plain": [
              "'teste'"
            ],
            "application/vnd.google.colaboratory.intrinsic+json": {
              "type": "string"
            }
          },
          "metadata": {},
          "execution_count": 6
        }
      ]
    },
    {
      "cell_type": "markdown",
      "source": [],
      "metadata": {
        "id": "aJ43Di0My392"
      }
    },
    {
      "cell_type": "code",
      "source": [
        "nome = input(\"Teste de pedido de entrada \")\n",
        "print(nome\n",
        "      )"
      ],
      "metadata": {
        "colab": {
          "base_uri": "https://localhost:8080/"
        },
        "id": "1jl6S7cKLvr2",
        "outputId": "96836a56-7697-472e-c6e9-e69f66fe0b0c"
      },
      "execution_count": null,
      "outputs": [
        {
          "output_type": "stream",
          "name": "stdout",
          "text": [
            "Teste de pedido de entrada Marcos\n",
            "Marcos\n"
          ]
        }
      ]
    },
    {
      "cell_type": "code",
      "source": [
        "idade = 20\n",
        "type(idade)"
      ],
      "metadata": {
        "colab": {
          "base_uri": "https://localhost:8080/"
        },
        "id": "Zps0GE_Law-m",
        "outputId": "286e4c86-3838-481f-9958-0468688c6c6c"
      },
      "execution_count": null,
      "outputs": [
        {
          "output_type": "execute_result",
          "data": {
            "text/plain": [
              "int"
            ]
          },
          "metadata": {},
          "execution_count": 10
        }
      ]
    },
    {
      "cell_type": "code",
      "source": [
        "idade = \"20\"\n",
        "type(idade)"
      ],
      "metadata": {
        "colab": {
          "base_uri": "https://localhost:8080/"
        },
        "id": "DQ43dJyXkoEa",
        "outputId": "9df114a5-961f-4622-e974-6b0c23b62df0"
      },
      "execution_count": null,
      "outputs": [
        {
          "output_type": "execute_result",
          "data": {
            "text/plain": [
              "str"
            ]
          },
          "metadata": {},
          "execution_count": 11
        }
      ]
    },
    {
      "cell_type": "code",
      "source": [
        "altura = 1.87\n",
        "type(altura)"
      ],
      "metadata": {
        "colab": {
          "base_uri": "https://localhost:8080/"
        },
        "id": "uVlqXFqFkusg",
        "outputId": "4a6e72d8-cf78-494e-fd50-1dc2eaf91ed0"
      },
      "execution_count": null,
      "outputs": [
        {
          "output_type": "execute_result",
          "data": {
            "text/plain": [
              "float"
            ]
          },
          "metadata": {},
          "execution_count": 12
        }
      ]
    },
    {
      "cell_type": "code",
      "source": [
        "altura = float(\"1.87\")\n",
        "type(altura)"
      ],
      "metadata": {
        "colab": {
          "base_uri": "https://localhost:8080/"
        },
        "id": "gyRy_nG_k1iW",
        "outputId": "124f8c14-a643-4339-a4f8-76a52324ec44"
      },
      "execution_count": null,
      "outputs": [
        {
          "output_type": "execute_result",
          "data": {
            "text/plain": [
              "float"
            ]
          },
          "metadata": {},
          "execution_count": 13
        }
      ]
    },
    {
      "cell_type": "code",
      "source": [
        "idade = int(20.8)\n",
        "type(idade)"
      ],
      "metadata": {
        "colab": {
          "base_uri": "https://localhost:8080/"
        },
        "id": "L15-PoZak9KO",
        "outputId": "43c1ef36-ef83-4e9b-e85f-ee6d469cf5c6"
      },
      "execution_count": null,
      "outputs": [
        {
          "output_type": "execute_result",
          "data": {
            "text/plain": [
              "int"
            ]
          },
          "metadata": {},
          "execution_count": 14
        }
      ]
    },
    {
      "cell_type": "code",
      "source": [
        "numero = str(20)\n",
        "type(numero)"
      ],
      "metadata": {
        "colab": {
          "base_uri": "https://localhost:8080/"
        },
        "id": "Z6_33ug0lC4f",
        "outputId": "9cce48b3-c8e5-4240-bbd7-fc86ec35f341"
      },
      "execution_count": null,
      "outputs": [
        {
          "output_type": "execute_result",
          "data": {
            "text/plain": [
              "str"
            ]
          },
          "metadata": {},
          "execution_count": 15
        }
      ]
    },
    {
      "cell_type": "code",
      "source": [
        "teste = True\n",
        "type(teste)"
      ],
      "metadata": {
        "colab": {
          "base_uri": "https://localhost:8080/"
        },
        "id": "-22u9_IglXvB",
        "outputId": "1083ab6a-cae3-4468-bec3-f33862a3aab5"
      },
      "execution_count": null,
      "outputs": [
        {
          "output_type": "execute_result",
          "data": {
            "text/plain": [
              "bool"
            ]
          },
          "metadata": {},
          "execution_count": 16
        }
      ]
    },
    {
      "cell_type": "code",
      "source": [
        "5+5\n",
        "5-5\n",
        "5/5\n",
        "5*5"
      ],
      "metadata": {
        "id": "HnmmgnQ9liwk",
        "colab": {
          "base_uri": "https://localhost:8080/"
        },
        "outputId": "a6a6ebc5-c532-4b99-f692-9b4b1e40f5be"
      },
      "execution_count": 17,
      "outputs": [
        {
          "output_type": "execute_result",
          "data": {
            "text/plain": [
              "25"
            ]
          },
          "metadata": {},
          "execution_count": 17
        }
      ]
    },
    {
      "cell_type": "code",
      "source": [
        "altura = input(\"Digite sua altura: \")\n",
        "peso = input(\"Digite seu peso: \")\n",
        "idade = input(\"Digite a sua idade: \")\n",
        "altura = float(altura)\n",
        "peso = float(peso)\n",
        "idade = int(idade)\n",
        "imc = peso/(altura*altura)\n",
        "#print(imc)\n",
        "print(f\"o seu IMC é igual à: {imc:.2f}\")"
      ],
      "metadata": {
        "colab": {
          "base_uri": "https://localhost:8080/"
        },
        "id": "IcIonKPOCW0p",
        "outputId": "085c4abf-2a23-4955-df8e-0b9c996a0973"
      },
      "execution_count": 19,
      "outputs": [
        {
          "output_type": "stream",
          "name": "stdout",
          "text": [
            "Digite sua altura: 1.87\n",
            "Digite seu peso: 65\n",
            "Digite a sua idade: 34\n",
            "o seu IMC é igual à: 18.58789213303211\n"
          ]
        }
      ]
    },
    {
      "cell_type": "code",
      "source": [
        "9 == 9"
      ],
      "metadata": {
        "colab": {
          "base_uri": "https://localhost:8080/"
        },
        "id": "IdD_Ete0EjeH",
        "outputId": "26590572-849d-4400-bc19-5552ff366ed1"
      },
      "execution_count": 20,
      "outputs": [
        {
          "output_type": "execute_result",
          "data": {
            "text/plain": [
              "True"
            ]
          },
          "metadata": {},
          "execution_count": 20
        }
      ]
    },
    {
      "cell_type": "code",
      "source": [
        "5 != 7"
      ],
      "metadata": {
        "id": "Ta3jSpilGHig"
      },
      "execution_count": null,
      "outputs": []
    },
    {
      "cell_type": "code",
      "source": [
        "3 >= 3.0"
      ],
      "metadata": {
        "colab": {
          "base_uri": "https://localhost:8080/"
        },
        "id": "IZsgcJtJGJmA",
        "outputId": "1ecb0fff-e60f-419a-f116-0928f0372054"
      },
      "execution_count": 21,
      "outputs": [
        {
          "output_type": "execute_result",
          "data": {
            "text/plain": [
              "True"
            ]
          },
          "metadata": {},
          "execution_count": 21
        }
      ]
    },
    {
      "cell_type": "code",
      "source": [
        "a = 3\n",
        "a < 4"
      ],
      "metadata": {
        "id": "-5uKmTi-GOeo"
      },
      "execution_count": null,
      "outputs": []
    },
    {
      "cell_type": "code",
      "source": [
        "num = int(input(\"Digite um numero: \"))\n",
        "comparacao = int(input(\"Digite numero para comparacao: \"))\n",
        "resultado = 2 * num + 3\n",
        "print(f\"O resultado da comparacao é: {resultado >= comparacao}\")"
      ],
      "metadata": {
        "id": "68-dTHG8GRmh"
      },
      "execution_count": null,
      "outputs": []
    },
    {
      "cell_type": "code",
      "source": [
        "#Operador and\n",
        "\n",
        "entrada1 = True\n",
        "entrada2 = False\n",
        "print(entrada1 and entrada2)"
      ],
      "metadata": {
        "colab": {
          "base_uri": "https://localhost:8080/"
        },
        "id": "48BUnLFfG0pm",
        "outputId": "a848dad5-ef94-44ad-b581-6293a36d8e85"
      },
      "execution_count": 22,
      "outputs": [
        {
          "output_type": "stream",
          "name": "stdout",
          "text": [
            "False\n"
          ]
        }
      ]
    },
    {
      "cell_type": "code",
      "source": [
        "#Operador and\n",
        "\n",
        "entrada1 = True\n",
        "entrada2 = True\n",
        "print(entrada1 and entrada2)"
      ],
      "metadata": {
        "colab": {
          "base_uri": "https://localhost:8080/"
        },
        "id": "Gzc3FdDhH7zY",
        "outputId": "225bc5d4-4813-432d-f00c-a74eef04bb43"
      },
      "execution_count": 23,
      "outputs": [
        {
          "output_type": "stream",
          "name": "stdout",
          "text": [
            "True\n"
          ]
        }
      ]
    },
    {
      "cell_type": "code",
      "source": [
        "((2*2+3) == 7) and ((2+2) != 3)"
      ],
      "metadata": {
        "colab": {
          "base_uri": "https://localhost:8080/"
        },
        "id": "FkwSPhrAIDdT",
        "outputId": "a95419a7-f5b0-4f92-a5ad-dbb48be07875"
      },
      "execution_count": 24,
      "outputs": [
        {
          "output_type": "execute_result",
          "data": {
            "text/plain": [
              "True"
            ]
          },
          "metadata": {},
          "execution_count": 24
        }
      ]
    },
    {
      "cell_type": "code",
      "source": [
        "#Operador or\n",
        "\n",
        "entrada1 = False\n",
        "entrada2 = False\n",
        "print(entrada1 or entrada2)"
      ],
      "metadata": {
        "colab": {
          "base_uri": "https://localhost:8080/"
        },
        "id": "lmAf6003IWYN",
        "outputId": "a9884786-6963-4ba4-a9b8-d19a7d4d36e2"
      },
      "execution_count": 26,
      "outputs": [
        {
          "output_type": "stream",
          "name": "stdout",
          "text": [
            "False\n"
          ]
        }
      ]
    },
    {
      "cell_type": "code",
      "source": [
        "#Operador or\n",
        "\n",
        "entrada1 = True\n",
        "entrada2 = False\n",
        "print(entrada1 or entrada2)"
      ],
      "metadata": {
        "id": "L7NM8eCoIrSf"
      },
      "execution_count": null,
      "outputs": []
    },
    {
      "cell_type": "code",
      "source": [
        "#Operador not\n",
        "\n",
        "entrada1 = True\n",
        "resultado = not entrada1\n",
        "print(resultado)"
      ],
      "metadata": {
        "colab": {
          "base_uri": "https://localhost:8080/"
        },
        "id": "y8UfSry4I0LC",
        "outputId": "d28e1899-5c9f-4443-c828-5e13f688025c"
      },
      "execution_count": 27,
      "outputs": [
        {
          "output_type": "stream",
          "name": "stdout",
          "text": [
            "False\n"
          ]
        }
      ]
    },
    {
      "cell_type": "code",
      "source": [
        "#Operador not\n",
        "\n",
        "entrada1 = False\n",
        "resultado = not entrada1\n",
        "print(resultado)"
      ],
      "metadata": {
        "id": "ot68rhVJJCZv"
      },
      "execution_count": null,
      "outputs": []
    },
    {
      "cell_type": "code",
      "source": [
        "#Operador not\n",
        "\n",
        "entrada1 = False\n",
        "resultado = not entrada1\n",
        "print(resultado)"
      ],
      "metadata": {
        "id": "zHbD0Zd5JKeV"
      },
      "execution_count": null,
      "outputs": []
    },
    {
      "cell_type": "code",
      "source": [
        "idade = int(input(\"Ëntre com a suaidade: \\n\"))\n",
        "if(idade >= 18):\n",
        "  print(\"A pessoa é maior de idade\")\n",
        "else:\n",
        "  print(\"A pessoa não é maior de idade\")\n",
        "print(\"Fim\")"
      ],
      "metadata": {
        "colab": {
          "base_uri": "https://localhost:8080/"
        },
        "id": "hnr988AfJhFj",
        "outputId": "c3c71b53-2cd0-4fce-d695-314c96ec5de4"
      },
      "execution_count": 2,
      "outputs": [
        {
          "output_type": "stream",
          "name": "stdout",
          "text": [
            "Ëntre com a suaidade: \n",
            "15\n",
            "A pessoa não é maior de idade\n",
            "Fim\n"
          ]
        }
      ]
    },
    {
      "cell_type": "code",
      "source": [
        "print(\"Responda sim ou não: \")\n",
        "resposta = input(\"Seu time venceu?\\n\")\n",
        "if((resposta == \"sim\") or (resposta == \"Sim\")):\n",
        "  print(\"Parabéns\")\n",
        "if((resposta == \"não\") or (resposta == \"Não\")):\n",
        "  print(\"Que pena\")"
      ],
      "metadata": {
        "colab": {
          "base_uri": "https://localhost:8080/"
        },
        "id": "ISbDM3P_ygTg",
        "outputId": "f8f12d57-6004-445b-dbaf-a86a555b1dc8"
      },
      "execution_count": 10,
      "outputs": [
        {
          "output_type": "stream",
          "name": "stdout",
          "text": [
            "Responda sim ou não: \n",
            "Seu time venceu?\n",
            "sim\n",
            "Parabéns\n"
          ]
        }
      ]
    },
    {
      "cell_type": "code",
      "source": [
        "print(\"=\" * 50)\n",
        "media = int(input(\"Digite a média do aluno: \"))\n",
        "if media >= 50:\n",
        "  print(\"o aluno foi aprovado\")\n",
        "else:\n",
        "  print(\"o aluno foi reprovado\")"
      ],
      "metadata": {
        "colab": {
          "base_uri": "https://localhost:8080/"
        },
        "id": "Z6p_dRFp0gkW",
        "outputId": "62460ec2-c5e0-4405-f78f-6e07894f9127"
      },
      "execution_count": 14,
      "outputs": [
        {
          "output_type": "stream",
          "name": "stdout",
          "text": [
            "==================================================\n",
            "Digite a média do aluno: 67\n",
            "o aluno foi aprovado\n"
          ]
        }
      ]
    },
    {
      "cell_type": "code",
      "source": [
        "nota = float(input(\"Digite a nota do aluno\\n\"))\n",
        "if nota >= 9:\n",
        "  print(\"A\")\n",
        "elif nota >= 7:\n",
        "  print(\"B\")\n",
        "elif nota >= 6:\n",
        "  print(\"C\")\n",
        "elif nota >= 5:\n",
        "  print(\"D\")\n",
        "else:\n",
        "  print(\"F\")"
      ],
      "metadata": {
        "colab": {
          "base_uri": "https://localhost:8080/"
        },
        "id": "YjkCCFwB1ac3",
        "outputId": "87bef8e6-beaf-407c-fb9e-2e3fdd1a4f10"
      },
      "execution_count": 15,
      "outputs": [
        {
          "output_type": "stream",
          "name": "stdout",
          "text": [
            "Digite a nota do aluno\n",
            "5\n",
            "D\n"
          ]
        }
      ]
    }
  ]
}