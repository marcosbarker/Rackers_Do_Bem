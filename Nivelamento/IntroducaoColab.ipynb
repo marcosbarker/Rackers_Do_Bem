{
  "nbformat": 4,
  "nbformat_minor": 0,
  "metadata": {
    "colab": {
      "provenance": [],
      "authorship_tag": "ABX9TyP3VppJMkknLbsVQZi1Nunm",
      "include_colab_link": true
    },
    "kernelspec": {
      "name": "python3",
      "display_name": "Python 3"
    },
    "language_info": {
      "name": "python"
    }
  },
  "cells": [
    {
      "cell_type": "markdown",
      "metadata": {
        "id": "view-in-github",
        "colab_type": "text"
      },
      "source": [
        "<a href=\"https://colab.research.google.com/github/marcosbarker/Rackers_Do_Bem/blob/main/Nivelamento/IntroducaoColab.ipynb\" target=\"_parent\"><img src=\"https://colab.research.google.com/assets/colab-badge.svg\" alt=\"Open In Colab\"/></a>"
      ]
    },
    {
      "cell_type": "code",
      "execution_count": null,
      "metadata": {
        "colab": {
          "base_uri": "https://localhost:8080/"
        },
        "id": "N1-PetRGyjq4",
        "outputId": "3b5a6ecb-462c-45ca-d060-996ec631f75a"
      },
      "outputs": [
        {
          "output_type": "stream",
          "name": "stdout",
          "text": [
            "0\n",
            "1\n",
            "2\n",
            "3\n",
            "4\n",
            "5\n",
            "6\n",
            "7\n",
            "8\n",
            "9\n",
            "10\n"
          ]
        }
      ],
      "source": [
        "for i in range(11):\n",
        "  print(i)"
      ]
    },
    {
      "cell_type": "code",
      "source": [
        "print(\"Teste de impressão\")"
      ],
      "metadata": {
        "colab": {
          "base_uri": "https://localhost:8080/"
        },
        "id": "lD6BJILxK9Ik",
        "outputId": "5acef032-3aad-408f-cb77-dc10ce861974"
      },
      "execution_count": null,
      "outputs": [
        {
          "output_type": "stream",
          "name": "stdout",
          "text": [
            "Teste de impressão\n"
          ]
        }
      ]
    },
    {
      "cell_type": "code",
      "source": [
        "input(\"Teste de pedido de entrada \")"
      ],
      "metadata": {
        "colab": {
          "base_uri": "https://localhost:8080/",
          "height": 53
        },
        "id": "K6p4BaTnLHy2",
        "outputId": "da0df12a-0743-4950-c14f-4951680dd711"
      },
      "execution_count": null,
      "outputs": [
        {
          "name": "stdout",
          "output_type": "stream",
          "text": [
            "Teste de pedido de entrada teste\n"
          ]
        },
        {
          "output_type": "execute_result",
          "data": {
            "text/plain": [
              "'teste'"
            ],
            "application/vnd.google.colaboratory.intrinsic+json": {
              "type": "string"
            }
          },
          "metadata": {},
          "execution_count": 6
        }
      ]
    },
    {
      "cell_type": "markdown",
      "source": [],
      "metadata": {
        "id": "aJ43Di0My392"
      }
    },
    {
      "cell_type": "code",
      "source": [
        "nome = input(\"Teste de pedido de entrada \")\n",
        "print(nome\n",
        "      )"
      ],
      "metadata": {
        "colab": {
          "base_uri": "https://localhost:8080/"
        },
        "id": "1jl6S7cKLvr2",
        "outputId": "96836a56-7697-472e-c6e9-e69f66fe0b0c"
      },
      "execution_count": null,
      "outputs": [
        {
          "output_type": "stream",
          "name": "stdout",
          "text": [
            "Teste de pedido de entrada Marcos\n",
            "Marcos\n"
          ]
        }
      ]
    },
    {
      "cell_type": "code",
      "source": [
        "idade = 20\n",
        "type(idade)"
      ],
      "metadata": {
        "colab": {
          "base_uri": "https://localhost:8080/"
        },
        "id": "Zps0GE_Law-m",
        "outputId": "286e4c86-3838-481f-9958-0468688c6c6c"
      },
      "execution_count": null,
      "outputs": [
        {
          "output_type": "execute_result",
          "data": {
            "text/plain": [
              "int"
            ]
          },
          "metadata": {},
          "execution_count": 10
        }
      ]
    },
    {
      "cell_type": "code",
      "source": [
        "idade = \"20\"\n",
        "type(idade)"
      ],
      "metadata": {
        "colab": {
          "base_uri": "https://localhost:8080/"
        },
        "id": "DQ43dJyXkoEa",
        "outputId": "9df114a5-961f-4622-e974-6b0c23b62df0"
      },
      "execution_count": null,
      "outputs": [
        {
          "output_type": "execute_result",
          "data": {
            "text/plain": [
              "str"
            ]
          },
          "metadata": {},
          "execution_count": 11
        }
      ]
    },
    {
      "cell_type": "code",
      "source": [
        "altura = 1.87\n",
        "type(altura)"
      ],
      "metadata": {
        "colab": {
          "base_uri": "https://localhost:8080/"
        },
        "id": "uVlqXFqFkusg",
        "outputId": "4a6e72d8-cf78-494e-fd50-1dc2eaf91ed0"
      },
      "execution_count": null,
      "outputs": [
        {
          "output_type": "execute_result",
          "data": {
            "text/plain": [
              "float"
            ]
          },
          "metadata": {},
          "execution_count": 12
        }
      ]
    },
    {
      "cell_type": "code",
      "source": [
        "altura = float(\"1.87\")\n",
        "type(altura)"
      ],
      "metadata": {
        "colab": {
          "base_uri": "https://localhost:8080/"
        },
        "id": "gyRy_nG_k1iW",
        "outputId": "124f8c14-a643-4339-a4f8-76a52324ec44"
      },
      "execution_count": null,
      "outputs": [
        {
          "output_type": "execute_result",
          "data": {
            "text/plain": [
              "float"
            ]
          },
          "metadata": {},
          "execution_count": 13
        }
      ]
    },
    {
      "cell_type": "code",
      "source": [
        "idade = int(20.8)\n",
        "type(idade)"
      ],
      "metadata": {
        "colab": {
          "base_uri": "https://localhost:8080/"
        },
        "id": "L15-PoZak9KO",
        "outputId": "43c1ef36-ef83-4e9b-e85f-ee6d469cf5c6"
      },
      "execution_count": null,
      "outputs": [
        {
          "output_type": "execute_result",
          "data": {
            "text/plain": [
              "int"
            ]
          },
          "metadata": {},
          "execution_count": 14
        }
      ]
    },
    {
      "cell_type": "code",
      "source": [
        "numero = str(20)\n",
        "type(numero)"
      ],
      "metadata": {
        "colab": {
          "base_uri": "https://localhost:8080/"
        },
        "id": "Z6_33ug0lC4f",
        "outputId": "9cce48b3-c8e5-4240-bbd7-fc86ec35f341"
      },
      "execution_count": null,
      "outputs": [
        {
          "output_type": "execute_result",
          "data": {
            "text/plain": [
              "str"
            ]
          },
          "metadata": {},
          "execution_count": 15
        }
      ]
    },
    {
      "cell_type": "code",
      "source": [
        "teste = True\n",
        "type(teste)"
      ],
      "metadata": {
        "colab": {
          "base_uri": "https://localhost:8080/"
        },
        "id": "-22u9_IglXvB",
        "outputId": "1083ab6a-cae3-4468-bec3-f33862a3aab5"
      },
      "execution_count": null,
      "outputs": [
        {
          "output_type": "execute_result",
          "data": {
            "text/plain": [
              "bool"
            ]
          },
          "metadata": {},
          "execution_count": 16
        }
      ]
    },
    {
      "cell_type": "code",
      "source": [
        "5+5\n",
        "5-5\n",
        "5/5\n",
        "5*5"
      ],
      "metadata": {
        "id": "HnmmgnQ9liwk",
        "colab": {
          "base_uri": "https://localhost:8080/"
        },
        "outputId": "a6a6ebc5-c532-4b99-f692-9b4b1e40f5be"
      },
      "execution_count": 17,
      "outputs": [
        {
          "output_type": "execute_result",
          "data": {
            "text/plain": [
              "25"
            ]
          },
          "metadata": {},
          "execution_count": 17
        }
      ]
    },
    {
      "cell_type": "code",
      "source": [
        "altura = input(\"Digite sua altura: \")\n",
        "peso = input(\"Digite seu peso: \")\n",
        "idade = input(\"Digite a sua idade: \")\n",
        "altura = float(altura)\n",
        "peso = float(peso)\n",
        "idade = int(idade)\n",
        "imc = peso/(altura*altura)\n",
        "#print(imc)\n",
        "print(f\"o seu IMC é igual à: {imc:.2f}\")"
      ],
      "metadata": {
        "colab": {
          "base_uri": "https://localhost:8080/"
        },
        "id": "IcIonKPOCW0p",
        "outputId": "085c4abf-2a23-4955-df8e-0b9c996a0973"
      },
      "execution_count": 19,
      "outputs": [
        {
          "output_type": "stream",
          "name": "stdout",
          "text": [
            "Digite sua altura: 1.87\n",
            "Digite seu peso: 65\n",
            "Digite a sua idade: 34\n",
            "o seu IMC é igual à: 18.58789213303211\n"
          ]
        }
      ]
    },
    {
      "cell_type": "code",
      "source": [],
      "metadata": {
        "id": "IdD_Ete0EjeH"
      },
      "execution_count": null,
      "outputs": []
    }
  ]
}